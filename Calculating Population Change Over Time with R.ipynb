{
 "cells": [
  {
   "cell_type": "raw",
   "id": "6755d14f",
   "metadata": {},
   "source": [
    "# The Population Table for Instanbul in Turkey\n",
    "\n",
    "Year\tPopulation\n",
    "1927\t691000\n",
    "1950\t983000\n",
    "2000\t8831800\n",
    "2017\t15029231"
   ]
  },
  {
   "cell_type": "code",
   "execution_count": 1,
   "id": "69ad5255",
   "metadata": {},
   "outputs": [
    {
     "name": "stdout",
     "output_type": "stream",
     "text": [
      "[1] 14338231\n",
      "[1] -28.42462\n"
     ]
    }
   ],
   "source": [
    "# Write your code starting here:\n",
    "city_name <- \"Istanbul, Turkey\"\n",
    "pop_year_one <- 691000\n",
    "pop_year_two <- 15029231\n",
    "pop_change <- pop_year_two - pop_year_one \n",
    "print(pop_change)\n",
    "\n",
    "# percentage growth rate\n",
    "percentage_gr <- ((pop_change/pop_year_one) *100)\n",
    "\n",
    "# Annual Growth Rate\n",
    "annual_gr <- (percentage_gr/(1927-2000))\n",
    "\n",
    "print(annual_gr)\n"
   ]
  },
  {
   "cell_type": "markdown",
   "id": "20e0d31d",
   "metadata": {},
   "source": [
    "## The function below takes the process of calculating the annual growth rate"
   ]
  },
  {
   "cell_type": "code",
   "execution_count": 2,
   "id": "d85689a2",
   "metadata": {},
   "outputs": [],
   "source": [
    "calculate_annual_growth <- function(year_one,year_two,pop_y1, pop_y2,city) {\n",
    "  annual_growth <- (((pop_y2 - pop_y1) / pop_y1) * 100) / (year_two-year_one)\n",
    "  message <- paste(\"From\", year_one, \"to\", year_two, \"the population of\", city, \"grew by approximately\", annual_growth, \"% each year.\")\n",
    "  print(message)\n",
    "  return(annual_growth)\n",
    "}"
   ]
  },
  {
   "cell_type": "markdown",
   "id": "4023298a",
   "metadata": {},
   "source": [
    "## Call the function to calculate the annual growth rate from year 2000 to 2017"
   ]
  },
  {
   "cell_type": "code",
   "execution_count": 3,
   "id": "3b6f0949",
   "metadata": {},
   "outputs": [
    {
     "name": "stdout",
     "output_type": "stream",
     "text": [
      "[1] \"From 2000 to 2017 the population of Istanbul, Turkey grew by approximately 4.12775158751197 % each year.\"\n"
     ]
    },
    {
     "data": {
      "text/html": [
       "4.12775158751197"
      ],
      "text/latex": [
       "4.12775158751197"
      ],
      "text/markdown": [
       "4.12775158751197"
      ],
      "text/plain": [
       "[1] 4.127752"
      ]
     },
     "metadata": {},
     "output_type": "display_data"
    }
   ],
   "source": [
    "calculate_annual_growth(2000, 2017, 8831800, pop_year_two, city_name)"
   ]
  },
  {
   "cell_type": "markdown",
   "id": "176bf433",
   "metadata": {},
   "source": [
    "## Call the function to calculate the annual growth rate from year 1950 to 2017"
   ]
  },
  {
   "cell_type": "code",
   "execution_count": 4,
   "id": "c5091821",
   "metadata": {},
   "outputs": [
    {
     "name": "stdout",
     "output_type": "stream",
     "text": [
      "[1] \"From 1950 to 2017 the population of Istanbul, Turkey grew by approximately 21.3270843139339 % each year.\"\n"
     ]
    },
    {
     "data": {
      "text/html": [
       "21.3270843139339"
      ],
      "text/latex": [
       "21.3270843139339"
      ],
      "text/markdown": [
       "21.3270843139339"
      ],
      "text/plain": [
       "[1] 21.32708"
      ]
     },
     "metadata": {},
     "output_type": "display_data"
    }
   ],
   "source": [
    "calculate_annual_growth(1950, 2017, 983000, pop_year_two, city_name)"
   ]
  }
 ],
 "metadata": {
  "kernelspec": {
   "display_name": "R",
   "language": "R",
   "name": "ir"
  },
  "language_info": {
   "codemirror_mode": "r",
   "file_extension": ".r",
   "mimetype": "text/x-r-source",
   "name": "R",
   "pygments_lexer": "r",
   "version": "3.6.1"
  }
 },
 "nbformat": 4,
 "nbformat_minor": 5
}
